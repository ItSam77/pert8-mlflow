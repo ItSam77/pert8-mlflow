{
 "cells": [
  {
   "cell_type": "code",
   "execution_count": 1,
   "id": "579aa1b2",
   "metadata": {},
   "outputs": [],
   "source": [
    "import os"
   ]
  },
  {
   "cell_type": "code",
   "execution_count": 2,
   "id": "00573cac",
   "metadata": {},
   "outputs": [
    {
     "name": "stdout",
     "output_type": "stream",
     "text": [
      "Class 'Beer Bottles': 3500 train, 1000 val, 500 test\n",
      "Class 'Plastic Bottles': 3500 train, 1000 val, 500 test\n",
      "Class 'Soda Bottle': 3500 train, 1000 val, 500 test\n",
      "Class 'Water Bottle': 3500 train, 1000 val, 500 test\n",
      "Class 'Wine Bottle': 3500 train, 1000 val, 500 test\n"
     ]
    }
   ],
   "source": [
    "import shutil\n",
    "import random\n",
    "from pathlib import Path\n",
    "\n",
    "def create_train_val_test_split(source_dir, output_dir, train_ratio=0.7, val_ratio=0.2, test_ratio=0.1):\n",
    "    \"\"\"\n",
    "    Split dataset into train/validation/test folders with specified ratios.\n",
    "    \n",
    "    Args:\n",
    "        source_dir: Path to the source directory containing class folders\n",
    "        output_dir: Path to the output directory where train/val/test folders will be created\n",
    "        train_ratio: Proportion of data for training (default: 0.7)\n",
    "        val_ratio: Proportion of data for validation (default: 0.2)\n",
    "        test_ratio: Proportion of data for testing (default: 0.1)\n",
    "    \"\"\"\n",
    "    source_path = Path(source_dir)\n",
    "    output_path = Path(output_dir)\n",
    "    \n",
    "    # Create main output directory\n",
    "    output_path.mkdir(exist_ok=True)\n",
    "    \n",
    "    # Create train, val, test directories\n",
    "    train_dir = output_path / \"train\"\n",
    "    val_dir = output_path / \"val\"\n",
    "    test_dir = output_path / \"test\"\n",
    "    \n",
    "    train_dir.mkdir(exist_ok=True)\n",
    "    val_dir.mkdir(exist_ok=True)\n",
    "    test_dir.mkdir(exist_ok=True)\n",
    "    \n",
    "    # Process each class folder\n",
    "    for class_folder in source_path.iterdir():\n",
    "        if class_folder.is_dir():\n",
    "            class_name = class_folder.name\n",
    "            \n",
    "            # Create class directories in train/val/test\n",
    "            (train_dir / class_name).mkdir(exist_ok=True)\n",
    "            (val_dir / class_name).mkdir(exist_ok=True)\n",
    "            (test_dir / class_name).mkdir(exist_ok=True)\n",
    "            \n",
    "            # Get all files in the class folder\n",
    "            files = [f for f in class_folder.iterdir() if f.is_file()]\n",
    "            random.shuffle(files)\n",
    "            \n",
    "            # Calculate split indices\n",
    "            total_files = len(files)\n",
    "            train_end = int(total_files * train_ratio)\n",
    "            val_end = train_end + int(total_files * val_ratio)\n",
    "            \n",
    "            # Split files\n",
    "            train_files = files[:train_end]\n",
    "            val_files = files[train_end:val_end]\n",
    "            test_files = files[val_end:]\n",
    "            \n",
    "            # Copy files to respective directories\n",
    "            for file_path in train_files:\n",
    "                shutil.copy2(file_path, train_dir / class_name / file_path.name)\n",
    "            \n",
    "            for file_path in val_files:\n",
    "                shutil.copy2(file_path, val_dir / class_name / file_path.name)\n",
    "            \n",
    "            for file_path in test_files:\n",
    "                shutil.copy2(file_path, test_dir / class_name / file_path.name)\n",
    "            \n",
    "            print(f\"Class '{class_name}': {len(train_files)} train, {len(val_files)} val, {len(test_files)} test\")\n",
    "\n",
    "# Example usage:\n",
    "create_train_val_test_split(\"img\", \"dataset_split\", train_ratio=0.7, val_ratio=0.2, test_ratio=0.1)\n"
   ]
  }
 ],
 "metadata": {
  "kernelspec": {
   "display_name": "Python 3",
   "language": "python",
   "name": "python3"
  },
  "language_info": {
   "codemirror_mode": {
    "name": "ipython",
    "version": 3
   },
   "file_extension": ".py",
   "mimetype": "text/x-python",
   "name": "python",
   "nbconvert_exporter": "python",
   "pygments_lexer": "ipython3",
   "version": "3.10.11"
  }
 },
 "nbformat": 4,
 "nbformat_minor": 5
}
